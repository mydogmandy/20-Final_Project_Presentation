{
 "cells": [
  {
   "cell_type": "markdown",
   "metadata": {},
   "source": [
    "## Effect of Passive Restraints on Vehicle Collision Occupant Status\n",
    "##### Description:\n",
    "* US data, for 1997-2002, from police-reported car crashes in which there is a harmful event (people or property),<br> and from which at least one vehicle was towed. Data are restricted to front-seat occupants, include only a subset<br> of the variables recorded, and are restricted in other ways also.\n",
    "##### dvcat\n",
    "* Ordered factor with levels (estimated impact speeds) 1-9km/h, 10-24, 25-39, 40-54, 55+\n",
    "##### weight\n",
    "* Observation weights, albeit of uncertain accuracy, designed to account for varying sampling probabilities.\n",
    "##### dead\n",
    "* Factor with levels alive dead\n",
    "##### airbag\n",
    "* A factor with levels none airbag\n",
    "##### seatbelt\n",
    "* A factor with levels none belted\n",
    "##### frontal\n",
    "* A numeric vector; 0 = non-frontal, 1=frontal impact\n",
    "##### sex\n",
    "* A factor with levels f m\n",
    "##### ageOFocc\n",
    "* Age of occupant in years\n",
    "##### yearacc\n",
    "* Year of accident\n",
    "##### yearVeh\n",
    "* Year of model of vehicle; a numeric vector\n",
    "##### abcat\n",
    "* Did one or more (driver or passenger) airbag(s) deploy? This factor has levels deploy nodeploy unavail\n",
    "##### occRole\n",
    "* A factor with levels driver pass\n",
    "##### deploy\n",
    "* A numeric vector: 0 if an airbag was unavailable or did not deploy; 1 if one or more bags deployed.\n",
    "##### injSeverity\n",
    "* A numeric vector: <br>0=None, 1=Possible Injury, 2=No Incapacity, 3=Incapacity, 4=Killed, 5=Unknown, 6=Prior Death\n",
    "##### caseid\n",
    "* A character created by pasting together the populations sampling unit, the case number, and the vehicle number.<br> Within each year, use this to uniquely identify the vehicle.\n",
    "\n"
   ]
  },
  {
   "cell_type": "markdown",
   "metadata": {},
   "source": [
    "### Import Dependencies / Machine Learning"
   ]
  },
  {
   "cell_type": "code",
   "execution_count": 1,
   "metadata": {},
   "outputs": [],
   "source": [
    "import warnings\n",
    "warnings.filterwarnings('ignore')\n",
    "\n",
    "import pandas as pd\n",
    "\n",
    "from sklearn.tree import DecisionTreeClassifier\n",
    "from sklearn.model_selection import train_test_split"
   ]
  },
  {
   "cell_type": "markdown",
   "metadata": {},
   "source": [
    "### Import Dataset"
   ]
  },
  {
   "cell_type": "code",
   "execution_count": 2,
   "metadata": {
    "scrolled": false
   },
   "outputs": [
    {
     "data": {
      "text/html": [
       "<div>\n",
       "<style scoped>\n",
       "    .dataframe tbody tr th:only-of-type {\n",
       "        vertical-align: middle;\n",
       "    }\n",
       "\n",
       "    .dataframe tbody tr th {\n",
       "        vertical-align: top;\n",
       "    }\n",
       "\n",
       "    .dataframe thead th {\n",
       "        text-align: right;\n",
       "    }\n",
       "</style>\n",
       "<table border=\"1\" class=\"dataframe\">\n",
       "  <thead>\n",
       "    <tr style=\"text-align: right;\">\n",
       "      <th></th>\n",
       "      <th>dvcat</th>\n",
       "      <th>weight</th>\n",
       "      <th>dead</th>\n",
       "      <th>airbag</th>\n",
       "      <th>seatbelt</th>\n",
       "      <th>frontal</th>\n",
       "      <th>sex</th>\n",
       "      <th>ageOFocc</th>\n",
       "      <th>yearacc</th>\n",
       "      <th>yearVeh</th>\n",
       "      <th>abcat</th>\n",
       "      <th>occRole</th>\n",
       "      <th>deploy</th>\n",
       "      <th>injSeverity</th>\n",
       "      <th>caseid</th>\n",
       "    </tr>\n",
       "  </thead>\n",
       "  <tbody>\n",
       "    <tr>\n",
       "      <th>1</th>\n",
       "      <td>25-39</td>\n",
       "      <td>25.069</td>\n",
       "      <td>alive</td>\n",
       "      <td>none</td>\n",
       "      <td>belted</td>\n",
       "      <td>1</td>\n",
       "      <td>f</td>\n",
       "      <td>26</td>\n",
       "      <td>1997</td>\n",
       "      <td>1990.0</td>\n",
       "      <td>unavail</td>\n",
       "      <td>driver</td>\n",
       "      <td>0</td>\n",
       "      <td>3.0</td>\n",
       "      <td>2:3:1</td>\n",
       "    </tr>\n",
       "    <tr>\n",
       "      <th>2</th>\n",
       "      <td>10-24</td>\n",
       "      <td>25.069</td>\n",
       "      <td>alive</td>\n",
       "      <td>airbag</td>\n",
       "      <td>belted</td>\n",
       "      <td>1</td>\n",
       "      <td>f</td>\n",
       "      <td>72</td>\n",
       "      <td>1997</td>\n",
       "      <td>1995.0</td>\n",
       "      <td>deploy</td>\n",
       "      <td>driver</td>\n",
       "      <td>1</td>\n",
       "      <td>1.0</td>\n",
       "      <td>2:3:2</td>\n",
       "    </tr>\n",
       "    <tr>\n",
       "      <th>3</th>\n",
       "      <td>10-24</td>\n",
       "      <td>32.379</td>\n",
       "      <td>alive</td>\n",
       "      <td>none</td>\n",
       "      <td>none</td>\n",
       "      <td>1</td>\n",
       "      <td>f</td>\n",
       "      <td>69</td>\n",
       "      <td>1997</td>\n",
       "      <td>1988.0</td>\n",
       "      <td>unavail</td>\n",
       "      <td>driver</td>\n",
       "      <td>0</td>\n",
       "      <td>4.0</td>\n",
       "      <td>2:5:1</td>\n",
       "    </tr>\n",
       "    <tr>\n",
       "      <th>4</th>\n",
       "      <td>25-39</td>\n",
       "      <td>495.444</td>\n",
       "      <td>alive</td>\n",
       "      <td>airbag</td>\n",
       "      <td>belted</td>\n",
       "      <td>1</td>\n",
       "      <td>f</td>\n",
       "      <td>53</td>\n",
       "      <td>1997</td>\n",
       "      <td>1995.0</td>\n",
       "      <td>deploy</td>\n",
       "      <td>driver</td>\n",
       "      <td>1</td>\n",
       "      <td>1.0</td>\n",
       "      <td>2:10:1</td>\n",
       "    </tr>\n",
       "    <tr>\n",
       "      <th>5</th>\n",
       "      <td>25-39</td>\n",
       "      <td>25.069</td>\n",
       "      <td>alive</td>\n",
       "      <td>none</td>\n",
       "      <td>belted</td>\n",
       "      <td>1</td>\n",
       "      <td>f</td>\n",
       "      <td>32</td>\n",
       "      <td>1997</td>\n",
       "      <td>1988.0</td>\n",
       "      <td>unavail</td>\n",
       "      <td>driver</td>\n",
       "      <td>0</td>\n",
       "      <td>3.0</td>\n",
       "      <td>2:11:1</td>\n",
       "    </tr>\n",
       "  </tbody>\n",
       "</table>\n",
       "</div>"
      ],
      "text/plain": [
       "   dvcat   weight   dead  airbag seatbelt  frontal sex  ageOFocc  yearacc  \\\n",
       "1  25-39   25.069  alive    none   belted        1   f        26     1997   \n",
       "2  10-24   25.069  alive  airbag   belted        1   f        72     1997   \n",
       "3  10-24   32.379  alive    none     none        1   f        69     1997   \n",
       "4  25-39  495.444  alive  airbag   belted        1   f        53     1997   \n",
       "5  25-39   25.069  alive    none   belted        1   f        32     1997   \n",
       "\n",
       "   yearVeh    abcat occRole  deploy  injSeverity  caseid  \n",
       "1   1990.0  unavail  driver       0          3.0   2:3:1  \n",
       "2   1995.0   deploy  driver       1          1.0   2:3:2  \n",
       "3   1988.0  unavail  driver       0          4.0   2:5:1  \n",
       "4   1995.0   deploy  driver       1          1.0  2:10:1  \n",
       "5   1988.0  unavail  driver       0          3.0  2:11:1  "
      ]
     },
     "execution_count": 2,
     "metadata": {},
     "output_type": "execute_result"
    }
   ],
   "source": [
    "# Import the dataset from Google Drive:\n",
    "url = ('https://drive.google.com/file/d/1t3Z8Blgy2BPmBB4FqrQkC_jie9IwYuQb/view?usp=sharing')\n",
    "path = 'https://drive.google.com/uc?export=download&id='+url.split('/')[-2]\n",
    "crash_1 = pd.read_csv(path,index_col=0)\n",
    "crash_1.head()"
   ]
  },
  {
   "cell_type": "markdown",
   "metadata": {},
   "source": [
    "### Initialize Dataset for Analysis"
   ]
  },
  {
   "cell_type": "code",
   "execution_count": 3,
   "metadata": {
    "scrolled": true
   },
   "outputs": [
    {
     "data": {
      "text/html": [
       "<div>\n",
       "<style scoped>\n",
       "    .dataframe tbody tr th:only-of-type {\n",
       "        vertical-align: middle;\n",
       "    }\n",
       "\n",
       "    .dataframe tbody tr th {\n",
       "        vertical-align: top;\n",
       "    }\n",
       "\n",
       "    .dataframe thead th {\n",
       "        text-align: right;\n",
       "    }\n",
       "</style>\n",
       "<table border=\"1\" class=\"dataframe\">\n",
       "  <thead>\n",
       "    <tr style=\"text-align: right;\">\n",
       "      <th></th>\n",
       "      <th>est_impact_kmh</th>\n",
       "      <th>ultimate_outcome</th>\n",
       "      <th>seatbelt</th>\n",
       "      <th>front_impact</th>\n",
       "      <th>sex</th>\n",
       "      <th>occupant_age</th>\n",
       "      <th>vehicle_year</th>\n",
       "      <th>airbag_deployment</th>\n",
       "      <th>occupant_role</th>\n",
       "      <th>injury_severity</th>\n",
       "    </tr>\n",
       "  </thead>\n",
       "  <tbody>\n",
       "    <tr>\n",
       "      <th>1</th>\n",
       "      <td>25-39</td>\n",
       "      <td>alive</td>\n",
       "      <td>belted</td>\n",
       "      <td>1</td>\n",
       "      <td>f</td>\n",
       "      <td>26</td>\n",
       "      <td>1990.0</td>\n",
       "      <td>unavail</td>\n",
       "      <td>driver</td>\n",
       "      <td>3.0</td>\n",
       "    </tr>\n",
       "    <tr>\n",
       "      <th>2</th>\n",
       "      <td>10-24</td>\n",
       "      <td>alive</td>\n",
       "      <td>belted</td>\n",
       "      <td>1</td>\n",
       "      <td>f</td>\n",
       "      <td>72</td>\n",
       "      <td>1995.0</td>\n",
       "      <td>deploy</td>\n",
       "      <td>driver</td>\n",
       "      <td>1.0</td>\n",
       "    </tr>\n",
       "    <tr>\n",
       "      <th>3</th>\n",
       "      <td>10-24</td>\n",
       "      <td>alive</td>\n",
       "      <td>none</td>\n",
       "      <td>1</td>\n",
       "      <td>f</td>\n",
       "      <td>69</td>\n",
       "      <td>1988.0</td>\n",
       "      <td>unavail</td>\n",
       "      <td>driver</td>\n",
       "      <td>4.0</td>\n",
       "    </tr>\n",
       "    <tr>\n",
       "      <th>4</th>\n",
       "      <td>25-39</td>\n",
       "      <td>alive</td>\n",
       "      <td>belted</td>\n",
       "      <td>1</td>\n",
       "      <td>f</td>\n",
       "      <td>53</td>\n",
       "      <td>1995.0</td>\n",
       "      <td>deploy</td>\n",
       "      <td>driver</td>\n",
       "      <td>1.0</td>\n",
       "    </tr>\n",
       "    <tr>\n",
       "      <th>5</th>\n",
       "      <td>25-39</td>\n",
       "      <td>alive</td>\n",
       "      <td>belted</td>\n",
       "      <td>1</td>\n",
       "      <td>f</td>\n",
       "      <td>32</td>\n",
       "      <td>1988.0</td>\n",
       "      <td>unavail</td>\n",
       "      <td>driver</td>\n",
       "      <td>3.0</td>\n",
       "    </tr>\n",
       "  </tbody>\n",
       "</table>\n",
       "</div>"
      ],
      "text/plain": [
       "  est_impact_kmh ultimate_outcome seatbelt  front_impact sex  occupant_age  \\\n",
       "1          25-39            alive   belted             1   f            26   \n",
       "2          10-24            alive   belted             1   f            72   \n",
       "3          10-24            alive     none             1   f            69   \n",
       "4          25-39            alive   belted             1   f            53   \n",
       "5          25-39            alive   belted             1   f            32   \n",
       "\n",
       "   vehicle_year airbag_deployment occupant_role  injury_severity  \n",
       "1        1990.0           unavail        driver              3.0  \n",
       "2        1995.0            deploy        driver              1.0  \n",
       "3        1988.0           unavail        driver              4.0  \n",
       "4        1995.0            deploy        driver              1.0  \n",
       "5        1988.0           unavail        driver              3.0  "
      ]
     },
     "execution_count": 3,
     "metadata": {},
     "output_type": "execute_result"
    }
   ],
   "source": [
    "# Remove columns not needed for this analysis:\n",
    "\n",
    "# 'weight': Value of unknown significance or origin\n",
    "# 'yearacc': Year the accident occurred from 1997-2002\n",
    "# 'caseid': Not individual accident identifiers, numerous indicents assigned to single id's\n",
    "# 'airbag' & 'deploy': Values are duplicated in the 'abcat' column\n",
    "\n",
    "crash_2 = crash_1.drop(['weight','yearacc','caseid','airbag','deploy'], axis=1)\n",
    "\n",
    "# Rename the column titles for better clarity:\n",
    "crash_2.rename(columns={'dvcat':'est_impact_kmh',\n",
    "                        'dead':'ultimate_outcome',\n",
    "                        'airbag':'airbag_available',\n",
    "                        'frontal':'front_impact',\n",
    "                        'ageOFocc':'occupant_age',\n",
    "                        'yearacc':'accident_year',\n",
    "                        'yearVeh':'vehicle_year',\n",
    "                        'abcat':'airbag_deployment',\n",
    "                        'occRole':'occupant_role',\n",
    "                        'injSeverity':'injury_severity'},inplace=True)\n",
    "\n",
    "crash_2.head()"
   ]
  },
  {
   "cell_type": "code",
   "execution_count": 4,
   "metadata": {
    "scrolled": true
   },
   "outputs": [
    {
     "name": "stdout",
     "output_type": "stream",
     "text": [
      "Column est_impact_kmh has 0    null values\n",
      "Column ultimate_outcome has 0    null values\n",
      "Column seatbelt has 0    null values\n",
      "Column front_impact has 0    null values\n",
      "Column sex has 0    null values\n",
      "Column occupant_age has 0    null values\n",
      "Column vehicle_year has 0    null values\n",
      "Column airbag_deployment has 0    null values\n",
      "Column occupant_role has 0    null values\n",
      "Column injury_severity has 0    null values\n"
     ]
    }
   ],
   "source": [
    "# Drop the all rows with null values:\n",
    "crash_3 = crash_2.dropna()\n",
    "for column in crash_3.columns:\n",
    "    print(f'Column {column} has {crash_3[column].isnull().sum()}\\\n",
    "    null values')"
   ]
  },
  {
   "cell_type": "code",
   "execution_count": 5,
   "metadata": {
    "scrolled": true
   },
   "outputs": [],
   "source": [
    "# Rename values in est_impacgt_kmh & airbag_available:\n",
    "crash_3['est_impact_kmh'] = crash_3['est_impact_kmh'].replace({'1-9km/h':'1-9'})"
   ]
  },
  {
   "cell_type": "code",
   "execution_count": 6,
   "metadata": {
    "scrolled": true
   },
   "outputs": [
    {
     "data": {
      "text/plain": [
       "belted        18465\n",
       "not_belted     7598\n",
       "Name: seatbelt, dtype: int64"
      ]
     },
     "execution_count": 6,
     "metadata": {},
     "output_type": "execute_result"
    }
   ],
   "source": [
    "# Change the values to reflect belted or not belted:\n",
    "crash_3['seatbelt'] = crash_3['seatbelt'].replace({'none':'not_belted'})\n",
    "belted = crash_3.seatbelt.value_counts()\n",
    "belted"
   ]
  },
  {
   "cell_type": "code",
   "execution_count": 7,
   "metadata": {
    "scrolled": true
   },
   "outputs": [
    {
     "data": {
      "text/html": [
       "<div>\n",
       "<style scoped>\n",
       "    .dataframe tbody tr th:only-of-type {\n",
       "        vertical-align: middle;\n",
       "    }\n",
       "\n",
       "    .dataframe tbody tr th {\n",
       "        vertical-align: top;\n",
       "    }\n",
       "\n",
       "    .dataframe thead th {\n",
       "        text-align: right;\n",
       "    }\n",
       "</style>\n",
       "<table border=\"1\" class=\"dataframe\">\n",
       "  <thead>\n",
       "    <tr style=\"text-align: right;\">\n",
       "      <th></th>\n",
       "      <th>est_impact_kmh</th>\n",
       "      <th>ultimate_outcome</th>\n",
       "      <th>seatbelt</th>\n",
       "      <th>front_impact</th>\n",
       "      <th>sex</th>\n",
       "      <th>occupant_age</th>\n",
       "      <th>vehicle_year</th>\n",
       "      <th>airbag_deployment</th>\n",
       "      <th>occupant_role</th>\n",
       "      <th>injury_severity</th>\n",
       "    </tr>\n",
       "  </thead>\n",
       "  <tbody>\n",
       "    <tr>\n",
       "      <th>1</th>\n",
       "      <td>25-39</td>\n",
       "      <td>alive</td>\n",
       "      <td>belted</td>\n",
       "      <td>1</td>\n",
       "      <td>f</td>\n",
       "      <td>26</td>\n",
       "      <td>1990.0</td>\n",
       "      <td>unavail</td>\n",
       "      <td>driver</td>\n",
       "      <td>3.0</td>\n",
       "    </tr>\n",
       "    <tr>\n",
       "      <th>2</th>\n",
       "      <td>10-24</td>\n",
       "      <td>alive</td>\n",
       "      <td>belted</td>\n",
       "      <td>1</td>\n",
       "      <td>f</td>\n",
       "      <td>72</td>\n",
       "      <td>1995.0</td>\n",
       "      <td>deploy</td>\n",
       "      <td>driver</td>\n",
       "      <td>1.0</td>\n",
       "    </tr>\n",
       "    <tr>\n",
       "      <th>3</th>\n",
       "      <td>10-24</td>\n",
       "      <td>alive</td>\n",
       "      <td>not_belted</td>\n",
       "      <td>1</td>\n",
       "      <td>f</td>\n",
       "      <td>69</td>\n",
       "      <td>1988.0</td>\n",
       "      <td>unavail</td>\n",
       "      <td>driver</td>\n",
       "      <td>4.0</td>\n",
       "    </tr>\n",
       "    <tr>\n",
       "      <th>4</th>\n",
       "      <td>25-39</td>\n",
       "      <td>alive</td>\n",
       "      <td>belted</td>\n",
       "      <td>1</td>\n",
       "      <td>f</td>\n",
       "      <td>53</td>\n",
       "      <td>1995.0</td>\n",
       "      <td>deploy</td>\n",
       "      <td>driver</td>\n",
       "      <td>1.0</td>\n",
       "    </tr>\n",
       "    <tr>\n",
       "      <th>5</th>\n",
       "      <td>25-39</td>\n",
       "      <td>alive</td>\n",
       "      <td>belted</td>\n",
       "      <td>1</td>\n",
       "      <td>f</td>\n",
       "      <td>32</td>\n",
       "      <td>1988.0</td>\n",
       "      <td>unavail</td>\n",
       "      <td>driver</td>\n",
       "      <td>3.0</td>\n",
       "    </tr>\n",
       "    <tr>\n",
       "      <th>...</th>\n",
       "      <td>...</td>\n",
       "      <td>...</td>\n",
       "      <td>...</td>\n",
       "      <td>...</td>\n",
       "      <td>...</td>\n",
       "      <td>...</td>\n",
       "      <td>...</td>\n",
       "      <td>...</td>\n",
       "      <td>...</td>\n",
       "      <td>...</td>\n",
       "    </tr>\n",
       "    <tr>\n",
       "      <th>26213</th>\n",
       "      <td>25-39</td>\n",
       "      <td>alive</td>\n",
       "      <td>belted</td>\n",
       "      <td>1</td>\n",
       "      <td>m</td>\n",
       "      <td>17</td>\n",
       "      <td>1985.0</td>\n",
       "      <td>unavail</td>\n",
       "      <td>driver</td>\n",
       "      <td>0.0</td>\n",
       "    </tr>\n",
       "    <tr>\n",
       "      <th>26214</th>\n",
       "      <td>10-24</td>\n",
       "      <td>alive</td>\n",
       "      <td>belted</td>\n",
       "      <td>1</td>\n",
       "      <td>m</td>\n",
       "      <td>54</td>\n",
       "      <td>2002.0</td>\n",
       "      <td>nodeploy</td>\n",
       "      <td>driver</td>\n",
       "      <td>2.0</td>\n",
       "    </tr>\n",
       "    <tr>\n",
       "      <th>26215</th>\n",
       "      <td>10-24</td>\n",
       "      <td>alive</td>\n",
       "      <td>belted</td>\n",
       "      <td>1</td>\n",
       "      <td>f</td>\n",
       "      <td>27</td>\n",
       "      <td>1990.0</td>\n",
       "      <td>deploy</td>\n",
       "      <td>driver</td>\n",
       "      <td>3.0</td>\n",
       "    </tr>\n",
       "    <tr>\n",
       "      <th>26216</th>\n",
       "      <td>25-39</td>\n",
       "      <td>alive</td>\n",
       "      <td>belted</td>\n",
       "      <td>1</td>\n",
       "      <td>f</td>\n",
       "      <td>18</td>\n",
       "      <td>1999.0</td>\n",
       "      <td>deploy</td>\n",
       "      <td>driver</td>\n",
       "      <td>0.0</td>\n",
       "    </tr>\n",
       "    <tr>\n",
       "      <th>26217</th>\n",
       "      <td>25-39</td>\n",
       "      <td>alive</td>\n",
       "      <td>belted</td>\n",
       "      <td>1</td>\n",
       "      <td>m</td>\n",
       "      <td>17</td>\n",
       "      <td>1999.0</td>\n",
       "      <td>deploy</td>\n",
       "      <td>pass</td>\n",
       "      <td>0.0</td>\n",
       "    </tr>\n",
       "  </tbody>\n",
       "</table>\n",
       "<p>26063 rows × 10 columns</p>\n",
       "</div>"
      ],
      "text/plain": [
       "      est_impact_kmh ultimate_outcome    seatbelt  front_impact sex  \\\n",
       "1              25-39            alive      belted             1   f   \n",
       "2              10-24            alive      belted             1   f   \n",
       "3              10-24            alive  not_belted             1   f   \n",
       "4              25-39            alive      belted             1   f   \n",
       "5              25-39            alive      belted             1   f   \n",
       "...              ...              ...         ...           ...  ..   \n",
       "26213          25-39            alive      belted             1   m   \n",
       "26214          10-24            alive      belted             1   m   \n",
       "26215          10-24            alive      belted             1   f   \n",
       "26216          25-39            alive      belted             1   f   \n",
       "26217          25-39            alive      belted             1   m   \n",
       "\n",
       "       occupant_age  vehicle_year airbag_deployment occupant_role  \\\n",
       "1                26        1990.0           unavail        driver   \n",
       "2                72        1995.0            deploy        driver   \n",
       "3                69        1988.0           unavail        driver   \n",
       "4                53        1995.0            deploy        driver   \n",
       "5                32        1988.0           unavail        driver   \n",
       "...             ...           ...               ...           ...   \n",
       "26213            17        1985.0           unavail        driver   \n",
       "26214            54        2002.0          nodeploy        driver   \n",
       "26215            27        1990.0            deploy        driver   \n",
       "26216            18        1999.0            deploy        driver   \n",
       "26217            17        1999.0            deploy          pass   \n",
       "\n",
       "       injury_severity  \n",
       "1                  3.0  \n",
       "2                  1.0  \n",
       "3                  4.0  \n",
       "4                  1.0  \n",
       "5                  3.0  \n",
       "...                ...  \n",
       "26213              0.0  \n",
       "26214              2.0  \n",
       "26215              3.0  \n",
       "26216              0.0  \n",
       "26217              0.0  \n",
       "\n",
       "[26063 rows x 10 columns]"
      ]
     },
     "execution_count": 7,
     "metadata": {},
     "output_type": "execute_result"
    }
   ],
   "source": [
    "crash_3"
   ]
  },
  {
   "cell_type": "code",
   "execution_count": 8,
   "metadata": {},
   "outputs": [
    {
     "data": {
      "text/plain": [
       "3.0    8495\n",
       "0.0    6478\n",
       "1.0    5595\n",
       "2.0    4242\n",
       "4.0    1118\n",
       "5.0     133\n",
       "6.0       2\n",
       "Name: injury_severity, dtype: int64"
      ]
     },
     "execution_count": 8,
     "metadata": {},
     "output_type": "execute_result"
    }
   ],
   "source": [
    "severity = crash_3.injury_severity.value_counts()\n",
    "severity"
   ]
  },
  {
   "cell_type": "code",
   "execution_count": 13,
   "metadata": {},
   "outputs": [
    {
     "data": {
      "text/html": [
       "<div>\n",
       "<style scoped>\n",
       "    .dataframe tbody tr th:only-of-type {\n",
       "        vertical-align: middle;\n",
       "    }\n",
       "\n",
       "    .dataframe tbody tr th {\n",
       "        vertical-align: top;\n",
       "    }\n",
       "\n",
       "    .dataframe thead th {\n",
       "        text-align: right;\n",
       "    }\n",
       "</style>\n",
       "<table border=\"1\" class=\"dataframe\">\n",
       "  <thead>\n",
       "    <tr style=\"text-align: right;\">\n",
       "      <th></th>\n",
       "      <th>est_impact_kmh</th>\n",
       "      <th>ultimate_outcome</th>\n",
       "      <th>seatbelt</th>\n",
       "      <th>front_impact</th>\n",
       "      <th>sex</th>\n",
       "      <th>occupant_age</th>\n",
       "      <th>vehicle_year</th>\n",
       "      <th>airbag_deployment</th>\n",
       "      <th>occupant_role</th>\n",
       "      <th>injury_severity</th>\n",
       "    </tr>\n",
       "  </thead>\n",
       "  <tbody>\n",
       "    <tr>\n",
       "      <th>1</th>\n",
       "      <td>25-39</td>\n",
       "      <td>alive</td>\n",
       "      <td>belted</td>\n",
       "      <td>1</td>\n",
       "      <td>f</td>\n",
       "      <td>26</td>\n",
       "      <td>1990.0</td>\n",
       "      <td>unavail</td>\n",
       "      <td>driver</td>\n",
       "      <td>3.0</td>\n",
       "    </tr>\n",
       "    <tr>\n",
       "      <th>2</th>\n",
       "      <td>10-24</td>\n",
       "      <td>alive</td>\n",
       "      <td>belted</td>\n",
       "      <td>1</td>\n",
       "      <td>f</td>\n",
       "      <td>72</td>\n",
       "      <td>1995.0</td>\n",
       "      <td>deploy</td>\n",
       "      <td>driver</td>\n",
       "      <td>1.0</td>\n",
       "    </tr>\n",
       "    <tr>\n",
       "      <th>3</th>\n",
       "      <td>10-24</td>\n",
       "      <td>alive</td>\n",
       "      <td>not_belted</td>\n",
       "      <td>1</td>\n",
       "      <td>f</td>\n",
       "      <td>69</td>\n",
       "      <td>1988.0</td>\n",
       "      <td>unavail</td>\n",
       "      <td>driver</td>\n",
       "      <td>4.0</td>\n",
       "    </tr>\n",
       "    <tr>\n",
       "      <th>4</th>\n",
       "      <td>25-39</td>\n",
       "      <td>alive</td>\n",
       "      <td>belted</td>\n",
       "      <td>1</td>\n",
       "      <td>f</td>\n",
       "      <td>53</td>\n",
       "      <td>1995.0</td>\n",
       "      <td>deploy</td>\n",
       "      <td>driver</td>\n",
       "      <td>1.0</td>\n",
       "    </tr>\n",
       "    <tr>\n",
       "      <th>5</th>\n",
       "      <td>25-39</td>\n",
       "      <td>alive</td>\n",
       "      <td>belted</td>\n",
       "      <td>1</td>\n",
       "      <td>f</td>\n",
       "      <td>32</td>\n",
       "      <td>1988.0</td>\n",
       "      <td>unavail</td>\n",
       "      <td>driver</td>\n",
       "      <td>3.0</td>\n",
       "    </tr>\n",
       "    <tr>\n",
       "      <th>...</th>\n",
       "      <td>...</td>\n",
       "      <td>...</td>\n",
       "      <td>...</td>\n",
       "      <td>...</td>\n",
       "      <td>...</td>\n",
       "      <td>...</td>\n",
       "      <td>...</td>\n",
       "      <td>...</td>\n",
       "      <td>...</td>\n",
       "      <td>...</td>\n",
       "    </tr>\n",
       "    <tr>\n",
       "      <th>26213</th>\n",
       "      <td>25-39</td>\n",
       "      <td>alive</td>\n",
       "      <td>belted</td>\n",
       "      <td>1</td>\n",
       "      <td>m</td>\n",
       "      <td>17</td>\n",
       "      <td>1985.0</td>\n",
       "      <td>unavail</td>\n",
       "      <td>driver</td>\n",
       "      <td>0.0</td>\n",
       "    </tr>\n",
       "    <tr>\n",
       "      <th>26214</th>\n",
       "      <td>10-24</td>\n",
       "      <td>alive</td>\n",
       "      <td>belted</td>\n",
       "      <td>1</td>\n",
       "      <td>m</td>\n",
       "      <td>54</td>\n",
       "      <td>2002.0</td>\n",
       "      <td>nodeploy</td>\n",
       "      <td>driver</td>\n",
       "      <td>2.0</td>\n",
       "    </tr>\n",
       "    <tr>\n",
       "      <th>26215</th>\n",
       "      <td>10-24</td>\n",
       "      <td>alive</td>\n",
       "      <td>belted</td>\n",
       "      <td>1</td>\n",
       "      <td>f</td>\n",
       "      <td>27</td>\n",
       "      <td>1990.0</td>\n",
       "      <td>deploy</td>\n",
       "      <td>driver</td>\n",
       "      <td>3.0</td>\n",
       "    </tr>\n",
       "    <tr>\n",
       "      <th>26216</th>\n",
       "      <td>25-39</td>\n",
       "      <td>alive</td>\n",
       "      <td>belted</td>\n",
       "      <td>1</td>\n",
       "      <td>f</td>\n",
       "      <td>18</td>\n",
       "      <td>1999.0</td>\n",
       "      <td>deploy</td>\n",
       "      <td>driver</td>\n",
       "      <td>0.0</td>\n",
       "    </tr>\n",
       "    <tr>\n",
       "      <th>26217</th>\n",
       "      <td>25-39</td>\n",
       "      <td>alive</td>\n",
       "      <td>belted</td>\n",
       "      <td>1</td>\n",
       "      <td>m</td>\n",
       "      <td>17</td>\n",
       "      <td>1999.0</td>\n",
       "      <td>deploy</td>\n",
       "      <td>pass</td>\n",
       "      <td>0.0</td>\n",
       "    </tr>\n",
       "  </tbody>\n",
       "</table>\n",
       "<p>25928 rows × 10 columns</p>\n",
       "</div>"
      ],
      "text/plain": [
       "      est_impact_kmh ultimate_outcome    seatbelt  front_impact sex  \\\n",
       "1              25-39            alive      belted             1   f   \n",
       "2              10-24            alive      belted             1   f   \n",
       "3              10-24            alive  not_belted             1   f   \n",
       "4              25-39            alive      belted             1   f   \n",
       "5              25-39            alive      belted             1   f   \n",
       "...              ...              ...         ...           ...  ..   \n",
       "26213          25-39            alive      belted             1   m   \n",
       "26214          10-24            alive      belted             1   m   \n",
       "26215          10-24            alive      belted             1   f   \n",
       "26216          25-39            alive      belted             1   f   \n",
       "26217          25-39            alive      belted             1   m   \n",
       "\n",
       "       occupant_age  vehicle_year airbag_deployment occupant_role  \\\n",
       "1                26        1990.0           unavail        driver   \n",
       "2                72        1995.0            deploy        driver   \n",
       "3                69        1988.0           unavail        driver   \n",
       "4                53        1995.0            deploy        driver   \n",
       "5                32        1988.0           unavail        driver   \n",
       "...             ...           ...               ...           ...   \n",
       "26213            17        1985.0           unavail        driver   \n",
       "26214            54        2002.0          nodeploy        driver   \n",
       "26215            27        1990.0            deploy        driver   \n",
       "26216            18        1999.0            deploy        driver   \n",
       "26217            17        1999.0            deploy          pass   \n",
       "\n",
       "       injury_severity  \n",
       "1                  3.0  \n",
       "2                  1.0  \n",
       "3                  4.0  \n",
       "4                  1.0  \n",
       "5                  3.0  \n",
       "...                ...  \n",
       "26213              0.0  \n",
       "26214              2.0  \n",
       "26215              3.0  \n",
       "26216              0.0  \n",
       "26217              0.0  \n",
       "\n",
       "[25928 rows x 10 columns]"
      ]
     },
     "execution_count": 13,
     "metadata": {},
     "output_type": "execute_result"
    }
   ],
   "source": [
    "\n",
    "crash_4 = crash_3.drop(['injury_severity'], axis=1)\n",
    "crash_4"
   ]
  },
  {
   "cell_type": "markdown",
   "metadata": {},
   "source": [
    "### Integer Encoding"
   ]
  },
  {
   "cell_type": "code",
   "execution_count": 14,
   "metadata": {},
   "outputs": [
    {
     "data": {
      "text/html": [
       "<div>\n",
       "<style scoped>\n",
       "    .dataframe tbody tr th:only-of-type {\n",
       "        vertical-align: middle;\n",
       "    }\n",
       "\n",
       "    .dataframe tbody tr th {\n",
       "        vertical-align: top;\n",
       "    }\n",
       "\n",
       "    .dataframe thead th {\n",
       "        text-align: right;\n",
       "    }\n",
       "</style>\n",
       "<table border=\"1\" class=\"dataframe\">\n",
       "  <thead>\n",
       "    <tr style=\"text-align: right;\">\n",
       "      <th></th>\n",
       "      <th>est_impact_kmh</th>\n",
       "      <th>ultimate_outcome</th>\n",
       "      <th>seatbelt</th>\n",
       "      <th>front_impact</th>\n",
       "      <th>sex</th>\n",
       "      <th>occupant_age</th>\n",
       "      <th>vehicle_year</th>\n",
       "      <th>airbag_deployment</th>\n",
       "      <th>occupant_role</th>\n",
       "      <th>injury_severity</th>\n",
       "    </tr>\n",
       "  </thead>\n",
       "  <tbody>\n",
       "    <tr>\n",
       "      <th>1</th>\n",
       "      <td>2</td>\n",
       "      <td>0</td>\n",
       "      <td>0</td>\n",
       "      <td>1</td>\n",
       "      <td>0</td>\n",
       "      <td>26</td>\n",
       "      <td>1990.0</td>\n",
       "      <td>2</td>\n",
       "      <td>0</td>\n",
       "      <td>3.0</td>\n",
       "    </tr>\n",
       "    <tr>\n",
       "      <th>2</th>\n",
       "      <td>1</td>\n",
       "      <td>0</td>\n",
       "      <td>0</td>\n",
       "      <td>1</td>\n",
       "      <td>0</td>\n",
       "      <td>72</td>\n",
       "      <td>1995.0</td>\n",
       "      <td>0</td>\n",
       "      <td>0</td>\n",
       "      <td>1.0</td>\n",
       "    </tr>\n",
       "    <tr>\n",
       "      <th>3</th>\n",
       "      <td>1</td>\n",
       "      <td>0</td>\n",
       "      <td>1</td>\n",
       "      <td>1</td>\n",
       "      <td>0</td>\n",
       "      <td>69</td>\n",
       "      <td>1988.0</td>\n",
       "      <td>2</td>\n",
       "      <td>0</td>\n",
       "      <td>4.0</td>\n",
       "    </tr>\n",
       "    <tr>\n",
       "      <th>4</th>\n",
       "      <td>2</td>\n",
       "      <td>0</td>\n",
       "      <td>0</td>\n",
       "      <td>1</td>\n",
       "      <td>0</td>\n",
       "      <td>53</td>\n",
       "      <td>1995.0</td>\n",
       "      <td>0</td>\n",
       "      <td>0</td>\n",
       "      <td>1.0</td>\n",
       "    </tr>\n",
       "    <tr>\n",
       "      <th>5</th>\n",
       "      <td>2</td>\n",
       "      <td>0</td>\n",
       "      <td>0</td>\n",
       "      <td>1</td>\n",
       "      <td>0</td>\n",
       "      <td>32</td>\n",
       "      <td>1988.0</td>\n",
       "      <td>2</td>\n",
       "      <td>0</td>\n",
       "      <td>3.0</td>\n",
       "    </tr>\n",
       "  </tbody>\n",
       "</table>\n",
       "</div>"
      ],
      "text/plain": [
       "   est_impact_kmh  ultimate_outcome  seatbelt  front_impact  sex  \\\n",
       "1               2                 0         0             1    0   \n",
       "2               1                 0         0             1    0   \n",
       "3               1                 0         1             1    0   \n",
       "4               2                 0         0             1    0   \n",
       "5               2                 0         0             1    0   \n",
       "\n",
       "   occupant_age  vehicle_year  airbag_deployment  occupant_role  \\\n",
       "1            26        1990.0                  2              0   \n",
       "2            72        1995.0                  0              0   \n",
       "3            69        1988.0                  2              0   \n",
       "4            53        1995.0                  0              0   \n",
       "5            32        1988.0                  2              0   \n",
       "\n",
       "   injury_severity  \n",
       "1              3.0  \n",
       "2              1.0  \n",
       "3              4.0  \n",
       "4              1.0  \n",
       "5              3.0  "
      ]
     },
     "execution_count": 14,
     "metadata": {},
     "output_type": "execute_result"
    }
   ],
   "source": [
    "from sklearn.preprocessing import LabelEncoder\n",
    "le = LabelEncoder()\n",
    "\n",
    "crash_5 = crash_4.copy()\n",
    "crash_5['est_impact_kmh'] = le.fit_transform(crash_5['est_impact_kmh']) \n",
    "crash_5['ultimate_outcome'] = le.fit_transform(crash_5['ultimate_outcome'])\n",
    "crash_5['seatbelt'] = le.fit_transform(crash_5['seatbelt'])\n",
    "crash_5['sex'] = le.fit_transform(crash_5['sex'])\n",
    "crash_5['airbag_deployment'] = le.fit_transform(crash_5['airbag_deployment'])\n",
    "crash_5['occupant_role'] = le.fit_transform(crash_5['occupant_role'])\n",
    "\n",
    "crash_5.head()"
   ]
  },
  {
   "cell_type": "markdown",
   "metadata": {},
   "source": [
    "### Split Data into Training & Testing"
   ]
  },
  {
   "cell_type": "code",
   "execution_count": 15,
   "metadata": {},
   "outputs": [
    {
     "data": {
      "text/plain": [
       "(19446, 9)"
      ]
     },
     "execution_count": 15,
     "metadata": {},
     "output_type": "execute_result"
    }
   ],
   "source": [
    "# Separate the features (X) from the target (y):\n",
    "y = crash_5['ultimate_outcome']\n",
    "X = crash_5.drop(columns='ultimate_outcome')\n",
    "\n",
    "# Split data into training & testing:\n",
    "X_train, X_test, y_train, y_test = train_test_split(X, y, random_state=1, stratify=y)\n",
    "X_train.shape"
   ]
  },
  {
   "cell_type": "markdown",
   "metadata": {},
   "source": [
    "### Balanced Random Forest Classifier:"
   ]
  },
  {
   "cell_type": "code",
   "execution_count": 16,
   "metadata": {},
   "outputs": [
    {
     "data": {
      "text/plain": [
       "BalancedRandomForestClassifier(random_state=1)"
      ]
     },
     "execution_count": 16,
     "metadata": {},
     "output_type": "execute_result"
    }
   ],
   "source": [
    "# Resample the training data with the BalancedRandomForestClassifier\n",
    "from imblearn.ensemble import BalancedRandomForestClassifier\n",
    "\n",
    "BRFC = BalancedRandomForestClassifier(n_estimators=100, random_state=1)\n",
    "BRFC.fit(X_train, y_train)"
   ]
  },
  {
   "cell_type": "code",
   "execution_count": 17,
   "metadata": {},
   "outputs": [
    {
     "data": {
      "text/plain": [
       "0.9480145630669008"
      ]
     },
     "execution_count": 17,
     "metadata": {},
     "output_type": "execute_result"
    }
   ],
   "source": [
    "# Calculate the balanced accuracy score:\n",
    "from sklearn.metrics import balanced_accuracy_score\n",
    "\n",
    "BFRC_pred = BRFC.predict(X_test)\n",
    "balanced_accuracy_score(y_test, BFRC_pred)"
   ]
  },
  {
   "cell_type": "code",
   "execution_count": 18,
   "metadata": {},
   "outputs": [
    {
     "data": {
      "text/plain": [
       "array([[6110,   77],\n",
       "       [  27,  268]])"
      ]
     },
     "execution_count": 18,
     "metadata": {},
     "output_type": "execute_result"
    }
   ],
   "source": [
    "# Display the confusion matrix:\n",
    "from sklearn.metrics import confusion_matrix\n",
    "\n",
    "confusion_matrix(y_test, BFRC_pred)"
   ]
  },
  {
   "cell_type": "code",
   "execution_count": 20,
   "metadata": {},
   "outputs": [
    {
     "name": "stdout",
     "output_type": "stream",
     "text": [
      "                   pre       rec       spe        f1       geo       iba       sup\n",
      "\n",
      "          0       1.00      0.99      0.91      0.99      0.95      0.90      6187\n",
      "          1       0.78      0.91      0.99      0.84      0.95      0.89       295\n",
      "\n",
      "avg / total       0.99      0.98      0.91      0.98      0.95      0.90      6482\n",
      "\n"
     ]
    }
   ],
   "source": [
    "# Print the imbalanced classification report:\n",
    "from imblearn.metrics import classification_report_imbalanced\n",
    "\n",
    "print(classification_report_imbalanced(y_test, BFRC_pred))"
   ]
  },
  {
   "cell_type": "code",
   "execution_count": 21,
   "metadata": {},
   "outputs": [
    {
     "data": {
      "text/plain": [
       "[(0.6810093179313453, 'injury_severity'),\n",
       " (0.1396865046231222, 'est_impact_kmh'),\n",
       " (0.07260846938756133, 'occupant_age'),\n",
       " (0.03807350400968621, 'seatbelt'),\n",
       " (0.03383656506462821, 'vehicle_year'),\n",
       " (0.012448528664141633, 'front_impact'),\n",
       " (0.00800275547226642, 'airbag_deployment'),\n",
       " (0.0076026304887454686, 'sex'),\n",
       " (0.006731724358503153, 'occupant_role')]"
      ]
     },
     "execution_count": 21,
     "metadata": {},
     "output_type": "execute_result"
    }
   ],
   "source": [
    "# List the features sorted in descending order by feature importance:\n",
    "importances = BRFC.feature_importances_\n",
    "sorted(zip(importances, X.columns), reverse=True)"
   ]
  },
  {
   "cell_type": "markdown",
   "metadata": {},
   "source": [
    "### Easy Ensemble AdaBoost Classifier"
   ]
  },
  {
   "cell_type": "code",
   "execution_count": 22,
   "metadata": {},
   "outputs": [
    {
     "data": {
      "text/plain": [
       "EasyEnsembleClassifier(n_estimators=100, random_state=1)"
      ]
     },
     "execution_count": 22,
     "metadata": {},
     "output_type": "execute_result"
    }
   ],
   "source": [
    "# Train the classifier:\n",
    "from imblearn.ensemble import EasyEnsembleClassifier\n",
    "\n",
    "EEC = EasyEnsembleClassifier(n_estimators=100, random_state=1)\n",
    "EEC.fit(X_train, y_train)"
   ]
  },
  {
   "cell_type": "code",
   "execution_count": 23,
   "metadata": {},
   "outputs": [
    {
     "data": {
      "text/plain": [
       "0.9488991406256421"
      ]
     },
     "execution_count": 23,
     "metadata": {},
     "output_type": "execute_result"
    }
   ],
   "source": [
    "# Calculate the balanced accuracy score:\n",
    "EEC_pred = EEC.predict(X_test)\n",
    "balanced_accuracy_score(y_test, EEC_pred)"
   ]
  },
  {
   "cell_type": "code",
   "execution_count": 24,
   "metadata": {},
   "outputs": [
    {
     "data": {
      "text/plain": [
       "array([[6079,  108],\n",
       "       [  25,  270]])"
      ]
     },
     "execution_count": 24,
     "metadata": {},
     "output_type": "execute_result"
    }
   ],
   "source": [
    "# Display the confusion matrix:\n",
    "confusion_matrix(y_test, EEC_pred)"
   ]
  },
  {
   "cell_type": "code",
   "execution_count": 25,
   "metadata": {},
   "outputs": [
    {
     "name": "stdout",
     "output_type": "stream",
     "text": [
      "                   pre       rec       spe        f1       geo       iba       sup\n",
      "\n",
      "          0       1.00      0.98      0.92      0.99      0.95      0.91      6187\n",
      "          1       0.71      0.92      0.98      0.80      0.95      0.89       295\n",
      "\n",
      "avg / total       0.98      0.98      0.92      0.98      0.95      0.90      6482\n",
      "\n"
     ]
    }
   ],
   "source": [
    "# Print the imbalanced classification report:\n",
    "print(classification_report_imbalanced(y_test, EEC_pred))"
   ]
  },
  {
   "cell_type": "markdown",
   "metadata": {},
   "source": [
    "### Naive Random Oversampling"
   ]
  },
  {
   "cell_type": "code",
   "execution_count": 26,
   "metadata": {},
   "outputs": [],
   "source": [
    "# Resample the training data with the RandomOversampler:\n",
    "from imblearn.over_sampling import RandomOverSampler\n",
    "\n",
    "ROS = RandomOverSampler(random_state=1)\n",
    "X_resampled, y_resampled = ROS.fit_resample(X_train, y_train)"
   ]
  },
  {
   "cell_type": "code",
   "execution_count": 27,
   "metadata": {},
   "outputs": [
    {
     "data": {
      "text/plain": [
       "LogisticRegression(random_state=1)"
      ]
     },
     "execution_count": 27,
     "metadata": {},
     "output_type": "execute_result"
    }
   ],
   "source": [
    "# Train the Logistic Regression model using the resampled data:\n",
    "from sklearn.linear_model import LogisticRegression\n",
    "\n",
    "ROS_model = LogisticRegression(solver='lbfgs', random_state=1)\n",
    "ROS_model.fit(X_resampled, y_resampled)"
   ]
  },
  {
   "cell_type": "code",
   "execution_count": 28,
   "metadata": {},
   "outputs": [
    {
     "data": {
      "text/plain": [
       "0.9516424542438628"
      ]
     },
     "execution_count": 28,
     "metadata": {},
     "output_type": "execute_result"
    }
   ],
   "source": [
    "# Calculated the balanced accuracy score:\n",
    "ROS_pred = ROS_model.predict(X_test)\n",
    "balanced_accuracy_score(y_test, ROS_pred)"
   ]
  },
  {
   "cell_type": "code",
   "execution_count": 29,
   "metadata": {},
   "outputs": [
    {
     "data": {
      "text/plain": [
       "array([[6071,  116],\n",
       "       [  23,  272]])"
      ]
     },
     "execution_count": 29,
     "metadata": {},
     "output_type": "execute_result"
    }
   ],
   "source": [
    "# Display the confusion matrix:\n",
    "confusion_matrix(y_test, ROS_pred)"
   ]
  },
  {
   "cell_type": "code",
   "execution_count": 30,
   "metadata": {},
   "outputs": [
    {
     "name": "stdout",
     "output_type": "stream",
     "text": [
      "                   pre       rec       spe        f1       geo       iba       sup\n",
      "\n",
      "          0       1.00      0.98      0.92      0.99      0.95      0.91      6187\n",
      "          1       0.70      0.92      0.98      0.80      0.95      0.90       295\n",
      "\n",
      "avg / total       0.98      0.98      0.92      0.98      0.95      0.91      6482\n",
      "\n"
     ]
    }
   ],
   "source": [
    "# Print the imbalanced classification report:\n",
    "print(classification_report_imbalanced(y_test, ROS_pred))"
   ]
  },
  {
   "cell_type": "markdown",
   "metadata": {},
   "source": [
    "### SMOTE Oversampling"
   ]
  },
  {
   "cell_type": "code",
   "execution_count": 31,
   "metadata": {},
   "outputs": [],
   "source": [
    "# Resample the training data with SMOTE:\n",
    "from imblearn.over_sampling import SMOTE\n",
    "\n",
    "X_resampled, y_resampled = SMOTE(random_state=1, sampling_strategy='auto').fit_resample(X_train, y_train)"
   ]
  },
  {
   "cell_type": "code",
   "execution_count": 32,
   "metadata": {},
   "outputs": [
    {
     "data": {
      "text/plain": [
       "LogisticRegression(random_state=1)"
      ]
     },
     "execution_count": 32,
     "metadata": {},
     "output_type": "execute_result"
    }
   ],
   "source": [
    "# Train the Logistic Regression model using the resampled data:\n",
    "Smote_model = LogisticRegression(solver='lbfgs', random_state=1)\n",
    "Smote_model.fit(X_resampled, y_resampled)"
   ]
  },
  {
   "cell_type": "code",
   "execution_count": 33,
   "metadata": {},
   "outputs": [
    {
     "data": {
      "text/plain": [
       "0.9490673445962421"
      ]
     },
     "execution_count": 33,
     "metadata": {},
     "output_type": "execute_result"
    }
   ],
   "source": [
    "# Calculate the balanced accuracy score:\n",
    "SMOTE_pred = Smote_model.predict(X_test)\n",
    "balanced_accuracy_score(y_test, SMOTE_pred)"
   ]
  },
  {
   "cell_type": "code",
   "execution_count": 34,
   "metadata": {},
   "outputs": [
    {
     "data": {
      "text/plain": [
       "array([[6144,   43],\n",
       "       [  28,  267]])"
      ]
     },
     "execution_count": 34,
     "metadata": {},
     "output_type": "execute_result"
    }
   ],
   "source": [
    "# Display the confusion matrix\n",
    "confusion_matrix(y_test, SMOTE_pred)"
   ]
  },
  {
   "cell_type": "code",
   "execution_count": 35,
   "metadata": {},
   "outputs": [
    {
     "name": "stdout",
     "output_type": "stream",
     "text": [
      "                   pre       rec       spe        f1       geo       iba       sup\n",
      "\n",
      "          0       1.00      0.99      0.91      0.99      0.95      0.91      6187\n",
      "          1       0.86      0.91      0.99      0.88      0.95      0.89       295\n",
      "\n",
      "avg / total       0.99      0.99      0.91      0.99      0.95      0.91      6482\n",
      "\n"
     ]
    }
   ],
   "source": [
    "# Print the imbalanced classification report\n",
    "print(classification_report_imbalanced(y_test, SMOTE_pred))"
   ]
  },
  {
   "cell_type": "markdown",
   "metadata": {},
   "source": [
    "### Undersampling"
   ]
  },
  {
   "cell_type": "code",
   "execution_count": 36,
   "metadata": {},
   "outputs": [],
   "source": [
    "# Resample the data using the ClusterCentroids resampler:\n",
    "from imblearn.under_sampling import ClusterCentroids\n",
    "\n",
    "CC = ClusterCentroids(random_state=1)\n",
    "X_resampled, y_resampled = CC.fit_resample(X_train, y_train)"
   ]
  },
  {
   "cell_type": "code",
   "execution_count": 37,
   "metadata": {},
   "outputs": [
    {
     "data": {
      "text/plain": [
       "LogisticRegression(random_state=78)"
      ]
     },
     "execution_count": 37,
     "metadata": {},
     "output_type": "execute_result"
    }
   ],
   "source": [
    "# Train the Logistic Regression model using the resampled data:\n",
    "CC_model = LogisticRegression(solver='lbfgs', random_state=78)\n",
    "CC_model.fit(X_resampled, y_resampled)"
   ]
  },
  {
   "cell_type": "code",
   "execution_count": 38,
   "metadata": {},
   "outputs": [
    {
     "data": {
      "text/plain": [
       "0.8839633676955234"
      ]
     },
     "execution_count": 38,
     "metadata": {},
     "output_type": "execute_result"
    }
   ],
   "source": [
    "# Calculate the balanced accuracy score:\n",
    "CC_pred = CC_model.predict(X_test)\n",
    "balanced_accuracy_score(y_test, CC_pred)"
   ]
  },
  {
   "cell_type": "code",
   "execution_count": 39,
   "metadata": {},
   "outputs": [
    {
     "data": {
      "text/plain": [
       "array([[4877, 1310],\n",
       "       [   6,  289]])"
      ]
     },
     "execution_count": 39,
     "metadata": {},
     "output_type": "execute_result"
    }
   ],
   "source": [
    "# Display the confusion matrix:\n",
    "confusion_matrix(y_test, CC_pred)"
   ]
  },
  {
   "cell_type": "code",
   "execution_count": 40,
   "metadata": {},
   "outputs": [
    {
     "name": "stdout",
     "output_type": "stream",
     "text": [
      "                   pre       rec       spe        f1       geo       iba       sup\n",
      "\n",
      "          0       1.00      0.79      0.98      0.88      0.88      0.76      6187\n",
      "          1       0.18      0.98      0.79      0.31      0.88      0.79       295\n",
      "\n",
      "avg / total       0.96      0.80      0.97      0.85      0.88      0.76      6482\n",
      "\n"
     ]
    }
   ],
   "source": [
    "# Print the imbalanced classification report:\n",
    "print(classification_report_imbalanced(y_test, CC_pred))"
   ]
  },
  {
   "cell_type": "markdown",
   "metadata": {},
   "source": [
    "### Combination (Over and Under) Sampling"
   ]
  },
  {
   "cell_type": "code",
   "execution_count": 41,
   "metadata": {},
   "outputs": [],
   "source": [
    "# Resample the training data with SMOTEENN:\n",
    "from imblearn.combine import SMOTEENN\n",
    "\n",
    "SMTN = SMOTEENN(random_state=0)\n",
    "X_resampled2, y_resampled2 = SMTN.fit_resample(X, y)"
   ]
  },
  {
   "cell_type": "code",
   "execution_count": 42,
   "metadata": {},
   "outputs": [
    {
     "data": {
      "text/plain": [
       "LogisticRegression(random_state=1)"
      ]
     },
     "execution_count": 42,
     "metadata": {},
     "output_type": "execute_result"
    }
   ],
   "source": [
    "# Train the Logistic Regression model using the resampled data:\n",
    "SMTN_model = LogisticRegression(solver='lbfgs', random_state=1)\n",
    "SMTN_model.fit(X_resampled, y_resampled)"
   ]
  },
  {
   "cell_type": "code",
   "execution_count": 43,
   "metadata": {},
   "outputs": [
    {
     "data": {
      "text/plain": [
       "0.8839633676955234"
      ]
     },
     "execution_count": 43,
     "metadata": {},
     "output_type": "execute_result"
    }
   ],
   "source": [
    "# Calculate the balanced accuracy score:\n",
    "SMTN_pred = SMTN_model.predict(X_test)\n",
    "balanced_accuracy_score(y_test, SMTN_pred)"
   ]
  },
  {
   "cell_type": "code",
   "execution_count": 44,
   "metadata": {},
   "outputs": [
    {
     "data": {
      "text/plain": [
       "array([[4877, 1310],\n",
       "       [   6,  289]])"
      ]
     },
     "execution_count": 44,
     "metadata": {},
     "output_type": "execute_result"
    }
   ],
   "source": [
    "# Display the confusion matrix:\n",
    "confusion_matrix(y_test, SMTN_pred)"
   ]
  },
  {
   "cell_type": "code",
   "execution_count": 45,
   "metadata": {},
   "outputs": [
    {
     "name": "stdout",
     "output_type": "stream",
     "text": [
      "                   pre       rec       spe        f1       geo       iba       sup\n",
      "\n",
      "          0       1.00      0.79      0.98      0.88      0.88      0.76      6187\n",
      "          1       0.18      0.98      0.79      0.31      0.88      0.79       295\n",
      "\n",
      "avg / total       0.96      0.80      0.97      0.85      0.88      0.76      6482\n",
      "\n"
     ]
    }
   ],
   "source": [
    "# Print the imbalanced classification report:\n",
    "print(classification_report_imbalanced(y_test, SMTN_pred))"
   ]
  },
  {
   "cell_type": "code",
   "execution_count": null,
   "metadata": {},
   "outputs": [],
   "source": []
  }
 ],
 "metadata": {
  "kernelspec": {
   "display_name": "Python 3",
   "language": "python",
   "name": "python3"
  },
  "language_info": {
   "codemirror_mode": {
    "name": "ipython",
    "version": 3
   },
   "file_extension": ".py",
   "mimetype": "text/x-python",
   "name": "python",
   "nbconvert_exporter": "python",
   "pygments_lexer": "ipython3",
   "version": "3.7.7"
  }
 },
 "nbformat": 4,
 "nbformat_minor": 4
}
